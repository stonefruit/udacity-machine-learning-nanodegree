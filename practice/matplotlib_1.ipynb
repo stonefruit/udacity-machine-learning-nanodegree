{
 "cells": [
  {
   "cell_type": "code",
   "execution_count": 2,
   "metadata": {},
   "outputs": [
    {
     "data": {
      "image/png": "[encoded data removed]",
      "text/plain": [
       "<matplotlib.figure.Figure at 0x7fda2efd25d0>"
      ]
     },
     "metadata": {},
     "output_type": "display_data"
    }
   ],
   "source": [
    "import numpy as np\n",
    "import matplotlib.pyplot as plt\n",
    "from mpl_toolkits.axes_grid1 import make_axes_locatable\n",
    "\n",
    "# the random data\n",
    "x = np.random.randn(1000)\n",
    "y = np.random.randn(1000)\n",
    "\n",
    "\n",
    "fig, axScatter = plt.subplots(figsize=(5.5, 5.5))\n",
    "\n",
    "# the scatter plot:\n",
    "axScatter.scatter(x, y)\n",
    "axScatter.set_aspect(1.)\n",
    "\n",
    "# create new axes on the right and on the top of the current axes\n",
    "# The first argument of the new_vertical(new_horizontal) method is\n",
    "# the height (width) of the axes to be created in inches.\n",
    "divider = make_axes_locatable(axScatter)\n",
    "axHistx = divider.append_axes(\"top\", 1.2, pad=0.1, sharex=axScatter)\n",
    "axHisty = divider.append_axes(\"right\", 1.2, pad=0.1, sharey=axScatter)\n",
    "\n",
    "# make some labels invisible\n",
    "plt.setp(axHistx.get_xticklabels() + axHisty.get_yticklabels(),\n",
    "         visible=False)\n",
    "\n",
    "# now determine nice limits by hand:\n",
    "binwidth = 0.25\n",
    "xymax = np.max([np.max(np.fabs(x)), np.max(np.fabs(y))])\n",
    "lim = (int(xymax/binwidth) + 1)*binwidth\n",
    "\n",
    "bins = np.arange(-lim, lim + binwidth, binwidth)\n",
    "axHistx.hist(x, bins=bins)\n",
    "axHisty.hist(y, bins=bins, orientation='horizontal')\n",
    "\n",
    "# the xaxis of axHistx and yaxis of axHisty are shared with axScatter,\n",
    "# thus there is no need to manually adjust the xlim and ylim of these\n",
    "# axis.\n",
    "\n",
    "#axHistx.axis[\"bottom\"].major_ticklabels.set_visible(False)\n",
    "for tl in axHistx.get_xticklabels():\n",
    "    tl.set_visible(False)\n",
    "axHistx.set_yticks([0, 50, 100])\n",
    "\n",
    "#axHisty.axis[\"left\"].major_ticklabels.set_visible(False)\n",
    "for tl in axHisty.get_yticklabels():\n",
    "    tl.set_visible(False)\n",
    "axHisty.set_xticks([0, 50, 100])\n",
    "\n",
    "plt.draw()\n",
    "plt.show()"
   ]
  },
  {
   "cell_type": "code",
   "execution_count": 52,
   "metadata": {},
   "outputs": [
    {
     "data": {
      "application/vnd.jupyter.widget-view+json": {
       "model_id": "590d2b7be4794a45aa3fef9a474d16af"
      }
     },
     "metadata": {},
     "output_type": "display_data"
    },
    {
     "data": {
      "text/plain": [
       "<function __main__.normal_plot>"
      ]
     },
     "execution_count": 52,
     "metadata": {},
     "output_type": "execute_result"
    }
   ],
   "source": [
    "import matplotlib.pyplot as plt\n",
    "import numpy as np\n",
    "import matplotlib.mlab as mlab\n",
    "import math\n",
    "from ipywidgets import *\n",
    "\n",
    "# set a common x for plotting, some tails will be longer\n",
    "x = np.arange(-7,7,0.005)\n",
    "\n",
    "def normal_plot(f):\n",
    "    # null hypothesis, 2-tailed\n",
    "    mu1 = f\n",
    "    variance1 = 1\n",
    "    sigma1 = math.sqrt(variance1)\n",
    "    # x1 = np.linspace(mu1-3*variance1,mu1+3*variance1, 1000)\n",
    "    y1 = mlab.normpdf(x, mu1, sigma1)\n",
    "    plt.plot(x,mlab.normpdf(x, mu1, sigma1))\n",
    "\n",
    "    # alternative hypothesis, 1-tailed\n",
    "    mu2 = 2\n",
    "    variance2 = 1\n",
    "    sigma2 = math.sqrt(variance2)\n",
    "    # x2 = np.linspace(mu2-3*variance2,mu2+3*variance2, 1000)\n",
    "    y2 = mlab.normpdf(x, mu2, sigma2)\n",
    "    plt.plot(x,mlab.normpdf(x, mu2, sigma2))\n",
    "\n",
    "    axes = plt.gca()\n",
    "    axes.set_xlim([-5,5])\n",
    "    axes.set_ylim([0,0.5])\n",
    "\n",
    "    plt.fill_between(x, 0, y1, where=y1 <= y2)\n",
    "\n",
    "    plt.show()\n",
    "\n",
    "interact(normal_plot, f=(0,5,0.2))\n",
    "# http://scipy-cookbook.readthedocs.io/items/Matplotlib_SigmoidalFunctions.html\n"
   ]
  },
  {
   "cell_type": "code",
   "execution_count": 49,
   "metadata": {},
   "outputs": [
    {
     "data": {
      "image/png": "[encoded data removed]",
      "text/plain": [
       "<matplotlib.figure.Figure at 0x7fda2c26a990>"
      ]
     },
     "metadata": {},
     "output_type": "display_data"
    }
   ],
   "source": [
    "import numpy as np\n",
    "import matplotlib.pyplot as plt\n",
    "from matplotlib.widgets import Slider, Button, RadioButtons\n",
    "\n",
    "fig, ax = plt.subplots()\n",
    "plt.subplots_adjust(left=0.25, bottom=0.25)\n",
    "t = np.arange(0.0, 1.0, 0.001)\n",
    "a0 = 5\n",
    "f0 = 3\n",
    "s = a0*np.sin(2*np.pi*f0*t)\n",
    "l, = plt.plot(t, s, lw=2, color='red')\n",
    "plt.axis([0, 1, -10, 10])\n",
    "\n",
    "axcolor = 'lightgoldenrodyellow'\n",
    "axfreq = plt.axes([0.25, 0.1, 0.65, 0.03], facecolor=axcolor)\n",
    "axamp = plt.axes([0.25, 0.15, 0.65, 0.03], facecolor=axcolor)\n",
    "\n",
    "sfreq = Slider(axfreq, 'Freq', 0.1, 30.0, valinit=f0)\n",
    "samp = Slider(axamp, 'Amp', 0.1, 10.0, valinit=a0)\n",
    "\n",
    "\n",
    "def update(val):\n",
    "    amp = samp.val\n",
    "    freq = sfreq.val\n",
    "    l.set_ydata(amp*np.sin(2*np.pi*freq*t))\n",
    "    fig.canvas.draw_idle()\n",
    "sfreq.on_changed(update)\n",
    "samp.on_changed(update)\n",
    "\n",
    "resetax = plt.axes([0.8, 0.025, 0.1, 0.04])\n",
    "button = Button(resetax, 'Reset', color=axcolor, hovercolor='0.975')\n",
    "\n",
    "\n",
    "def reset(event):\n",
    "    sfreq.reset()\n",
    "    samp.reset()\n",
    "button.on_clicked(reset)\n",
    "\n",
    "rax = plt.axes([0.025, 0.5, 0.15, 0.15], facecolor=axcolor)\n",
    "radio = RadioButtons(rax, ('red', 'blue', 'green'), active=0)\n",
    "\n",
    "\n",
    "def colorfunc(label):\n",
    "    l.set_color(label)\n",
    "    fig.canvas.draw_idle()\n",
    "radio.on_clicked(colorfunc)\n",
    "\n",
    "plt.show()"
   ]
  },
  {
   "cell_type": "code",
   "execution_count": null,
   "metadata": {
    "collapsed": true
   },
   "outputs": [],
   "source": []
  }
 ],
 "metadata": {
  "kernelspec": {
   "display_name": "Python 2",
   "language": "python",
   "name": "python2"
  },
  "language_info": {
   "codemirror_mode": {
    "name": "ipython",
    "version": 2
   },
   "file_extension": ".py",
   "mimetype": "text/x-python",
   "name": "python",
   "nbconvert_exporter": "python",
   "pygments_lexer": "ipython2",
   "version": "2.7.13"
  }
 },
 "nbformat": 4,
 "nbformat_minor": 2
}
