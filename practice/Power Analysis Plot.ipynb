{
 "cells": [
  {
   "cell_type": "code",
   "execution_count": 1,
   "metadata": {},
   "outputs": [
    {
     "data": {
      "application/vnd.jupyter.widget-view+json": {
       "model_id": "611761fb487e412b90a445a5de66e1ac"
      }
     },
     "metadata": {},
     "output_type": "display_data"
    },
    {
     "data": {
      "text/plain": [
       "<function __main__.normal_plot>"
      ]
     },
     "execution_count": 1,
     "metadata": {},
     "output_type": "execute_result"
    }
   ],
   "source": [
    "import matplotlib.pyplot as plt\n",
    "import numpy as np\n",
    "import matplotlib.mlab as mlab\n",
    "import math\n",
    "from ipywidgets import *\n",
    "\n",
    "# set a common x for plotting, some tails will be longer\n",
    "x = np.arange(-7,7,0.005)\n",
    "\n",
    "def normal_plot(f):\n",
    "    # null hypothesis, 2-tailed\n",
    "    mu1 = f\n",
    "    variance1 = 1\n",
    "    sigma1 = math.sqrt(variance1)\n",
    "    # x1 = np.linspace(mu1-3*variance1,mu1+3*variance1, 1000)\n",
    "    y1 = mlab.normpdf(x, mu1, sigma1)\n",
    "    plt.plot(x,mlab.normpdf(x, mu1, sigma1))\n",
    "\n",
    "    # alternative hypothesis, 1-tailed\n",
    "    mu2 = 2\n",
    "    variance2 = 1\n",
    "    sigma2 = math.sqrt(variance2)\n",
    "    # x2 = np.linspace(mu2-3*variance2,mu2+3*variance2, 1000)\n",
    "    y2 = mlab.normpdf(x, mu2, sigma2)\n",
    "    plt.plot(x,mlab.normpdf(x, mu2, sigma2))\n",
    "\n",
    "    axes = plt.gca()\n",
    "    axes.set_xlim([-5,5])\n",
    "    axes.set_ylim([0,0.5])\n",
    "\n",
    "    plt.fill_between(x, 0, y1, where=y1 <= y2)\n",
    "\n",
    "    plt.show()\n",
    "\n",
    "interact(normal_plot, f=(0,5,0.2))\n",
    "# http://scipy-cookbook.readthedocs.io/items/Matplotlib_SigmoidalFunctions.html\n"
   ]
  },
  {
   "cell_type": "code",
   "execution_count": null,
   "metadata": {
    "collapsed": true
   },
   "outputs": [],
   "source": []
  }
 ],
 "metadata": {
  "kernelspec": {
   "display_name": "Python 2",
   "language": "python",
   "name": "python2"
  },
  "language_info": {
   "codemirror_mode": {
    "name": "ipython",
    "version": 2
   },
   "file_extension": ".py",
   "mimetype": "text/x-python",
   "name": "python",
   "nbconvert_exporter": "python",
   "pygments_lexer": "ipython2",
   "version": "2.7.13"
  }
 },
 "nbformat": 4,
 "nbformat_minor": 2
}
