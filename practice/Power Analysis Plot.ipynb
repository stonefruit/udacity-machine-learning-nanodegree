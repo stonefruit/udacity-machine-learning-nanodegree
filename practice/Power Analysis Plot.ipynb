{
 "cells": [
  {
   "cell_type": "code",
   "execution_count": 194,
   "metadata": {},
   "outputs": [
    {
     "data": {
      "application/vnd.jupyter.widget-view+json": {
       "model_id": "ef58f190b21a4bf5900556fd9280bb65"
      }
     },
     "metadata": {},
     "output_type": "display_data"
    },
    {
     "data": {
      "text/plain": [
       "<function __main__.power_analysis_plot>"
      ]
     },
     "execution_count": 194,
     "metadata": {},
     "output_type": "execute_result"
    }
   ],
   "source": [
    "import math\n",
    "import matplotlib\n",
    "import matplotlib.pyplot as plt\n",
    "import numpy as np\n",
    "import matplotlib.mlab as mlab\n",
    "import matplotlib.patches as mpatches\n",
    "from ipywidgets import *\n",
    "\n",
    "# Calculated found at https://www.statisticalsolutions.net/pssZtest_calc.php for sanity check\n",
    "# Default example\n",
    "def power_analysis_plot(Mean_Difference=3.0, Standard_Deviation=4.0, Power=0.8, n=14):\n",
    "# Example 1 - flatter peaks to show when mean and standard deviation is large, same thing happens over larger area\n",
    "# def power_analysis_plot(Mean_Difference=3.0, Standard_Deviation=8.0, Power=0.8, n=56):\n",
    "# Example 2 - even flatter!\n",
    "# def power_analysis_plot(Mean_Difference=5.0, Standard_Deviation=8.0, Power=0.8, n=21):\n",
    "    # Capital Letters used for labelling in widget\n",
    "    mean_diff = Mean_Difference\n",
    "    power = Power\n",
    "    sigma = Standard_Deviation # Here we estimate a previous experiment's standard deviation as the population's\n",
    "    n = n\n",
    "    \n",
    "    # Set a common x for plotting. Care for interval of x, may cause memory issues.\n",
    "    x = np.arange(-7,7,0.005)\n",
    "    \n",
    "    # Center x2 (Alternate Hypothesis) by mean difference away from 0\n",
    "    x1 = x + 0\n",
    "    x2 = x + mean_diff\n",
    "    \n",
    "    # Rename variables in terms of describing the normal curve\n",
    "    mu0 = 0\n",
    "    mua = mean_diff\n",
    "    ste = sigma/math.sqrt(n) # estimate standard error from assumed population standard deviation\n",
    "    \n",
    "    # Plot basic curves\n",
    "    y1 = mlab.normpdf(x1, mu0, ste) # H0, mean: 0\n",
    "    plt.plot(x1,y1,color='blue',linewidth=7.0)\n",
    "    y2 = mlab.normpdf(x2, mua, ste) # Ha, mean: 0 + difference\n",
    "    plt.plot(x2,y2,color='orange',linewidth=7.0)\n",
    "    \n",
    "    # Guide lines for shading area\n",
    "    x1_alpha = -1.959964*ste + 0\n",
    "    alpha_boundary = (1/(math.sqrt(2*math.pi*ste**2))) * math.exp((-(x1_alpha-mu0)**2)/(2*ste**2))\n",
    "    if power == 0.9:\n",
    "        x2_beta = -1.281551*ste + mua # prob = 0.1, 10% power\n",
    "    elif power == 0.8:\n",
    "        x2_beta = -0.841621*ste + mua # prob - 0.2, 20% power\n",
    "     \n",
    "    # color plot area\n",
    "    plt.fill_between(x2, 0, y2, color='orange', alpha=0.2) # work around sliver of orange bug in Ha\n",
    "    plt.fill_betweenx(y2, x2_beta, x2, where=x2_beta>x2, color='white', alpha=1) # left-tailed Ha\n",
    "    plt.fill_between(x1, 0, y1, where=y1 <= alpha_boundary, color='blue', alpha=0.5) # 2-tailed H0\n",
    "    \n",
    "    # Add vertical lines\n",
    "    plt.axvline(x=-x1_alpha, color='r') # alpha, negative to show right tail\n",
    "    plt.axvline(x=mu0, color='grey', alpha=0.2) # alpha, negative to show right tail\n",
    "    plt.axvline(x=mua, color='grey', alpha=0.2) # alpha, negative to show right tail\n",
    "   \n",
    "    # Set axes limits and ticks\n",
    "    axes = plt.gca()\n",
    "    x_range = [-4,8]\n",
    "    axes.set_xlim(x_range)\n",
    "    axes.set_ylim([0,0.9])\n",
    "    xticks = np.arange(x_range[0], x_range[1],1)\n",
    "    axes.set_xticks(xticks)\n",
    "    \n",
    "    # Set legend\n",
    "    blue_patch = mpatches.Patch(color='blue', label='Assuming H0 is true...There is NO difference')\n",
    "    orange_patch = mpatches.Patch(color='orange', label='Assuming H1 is true...There IS a difference')\n",
    "    light_blue_patch = mpatches.Patch(color='blue', alpha=0.5, \n",
    "                                      label='If our mean falls here, we are in trouble...')\n",
    "    light_orange_patch = mpatches.Patch(color='orange', alpha=0.4, label='1-'+r'$\\beta$'+' (The POWER)')\n",
    "    red_patch = mpatches.Patch(color='red', label=r'$\\alpha$'+' (The critical value)')\n",
    "    plt.legend(handles=[blue_patch,light_blue_patch,orange_patch,light_orange_patch,red_patch])\n",
    "    \n",
    "    # Adjust plot size\n",
    "    matplotlib.rcParams['figure.figsize'] = (20.0, 15.0)\n",
    "    matplotlib.rcParams.update({'font.size': 20})\n",
    "    \n",
    "    plt.show()\n",
    "\n",
    "# Call plot and add slider bars\n",
    "interact(power_analysis_plot, Mean_Difference=(0,7,0.2),\n",
    "         Standard_Deviation=(0.5,10.00,0.05), Power=(0.8,0.9,0.1),n=(1,100,1))"
   ]
  },
  {
   "cell_type": "code",
   "execution_count": null,
   "metadata": {
    "collapsed": true
   },
   "outputs": [],
   "source": []
  }
 ],
 "metadata": {
  "kernelspec": {
   "display_name": "Python 2",
   "language": "python",
   "name": "python2"
  },
  "language_info": {
   "codemirror_mode": {
    "name": "ipython",
    "version": 2
   },
   "file_extension": ".py",
   "mimetype": "text/x-python",
   "name": "python",
   "nbconvert_exporter": "python",
   "pygments_lexer": "ipython2",
   "version": "2.7.13"
  }
 },
 "nbformat": 4,
 "nbformat_minor": 2
}
