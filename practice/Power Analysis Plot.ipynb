{
 "cells": [
  {
   "cell_type": "code",
   "execution_count": 152,
   "metadata": {},
   "outputs": [
    {
     "data": {
      "application/vnd.jupyter.widget-view+json": {
       "model_id": "58bf1bf890ea4a1d98639b089033c099"
      }
     },
     "metadata": {},
     "output_type": "display_data"
    },
    {
     "data": {
      "text/plain": [
       "<function __main__.normal_plot>"
      ]
     },
     "execution_count": 152,
     "metadata": {},
     "output_type": "execute_result"
    }
   ],
   "source": [
    "import math\n",
    "import matplotlib\n",
    "import matplotlib.pyplot as plt\n",
    "import numpy as np\n",
    "import matplotlib.mlab as mlab\n",
    "from ipywidgets import *\n",
    "\n",
    "def normal_plot(Mean_Difference=4, Standard_Deviation=0.7):\n",
    "    # Capital Letters used for labelling in widget\n",
    "    mean_diff = Mean_Difference\n",
    "    std = Standard_Deviation\n",
    "    \n",
    "    # Set a common x for plotting, some tails will be longer\n",
    "    x = np.arange(-7,7,0.05)\n",
    "    \n",
    "    # Center x2 (Alternate Hypothesis) by mean difference away from 0\n",
    "    x1 = x + 0\n",
    "    x2 = x + mean_diff\n",
    "    \n",
    "    # Rename variables in terms of describing the normal curve\n",
    "    mu = mean_diff\n",
    "    sigma = std\n",
    "    variance = std**2\n",
    "    \n",
    "    # Plot basic curves\n",
    "    y1 = mlab.normpdf(x1, 0, sigma) # H0, mean: 0\n",
    "    plt.plot(x1,y1)\n",
    "    y2 = mlab.normpdf(x2, mu, sigma) # Ha, mean: 0 + difference\n",
    "    plt.plot(x2,y2)\n",
    "    \n",
    "    # Guide lines for shading area, mu = 0 used for x1_alpha\n",
    "    x1_alpha = -1.959964*sigma + 0\n",
    "    alpha_boundary = (1/(math.sqrt(2*math.pi*sigma**2))) * math.exp((-(x1_alpha-0)**2)/(2*sigma**2))\n",
    "    x2_beta = -1.281551*sigma + mu\n",
    "    beta_boundary = (1/(math.sqrt(2*math.pi*sigma**2))) * math.exp((-(x2_beta-mu)**2)/(2*sigma**2))\n",
    "    \n",
    "    # Add line for alpha\n",
    "    plt.axvline(x=-x1_alpha, color='r') # negative to show right tail\n",
    "    \n",
    "    # color plot area\n",
    "    plt.fill_between(x1, 0, y1, where=y1 <= alpha_boundary, color=\"grey\", alpha=0.5)\n",
    "    plt.fill_betweenx(y2, x2, x2_beta, where=x2_beta>x2, alpha=0.5)\n",
    "    \n",
    "    # set axes limits\n",
    "    axes = plt.gca()\n",
    "    axes.set_xlim([-4,10])\n",
    "    axes.set_ylim([0,1])\n",
    "    \n",
    "    # adjust plot size\n",
    "    matplotlib.rcParams['figure.figsize'] = (20.0, 200.0)\n",
    "    plt.show()\n",
    "\n",
    "# call plot and add slider bars\n",
    "interact(normal_plot, Mean_Difference=(0,10,0.2),Standard_Deviation=(0.01,2.00,0.01))\n",
    "\n",
    "# resources\n",
    "# http://scipy-cookbook.readthedocs.io/items/Matplotlib_SigmoidalFunctions.html\n",
    "\n"
   ]
  },
  {
   "cell_type": "code",
   "execution_count": 117,
   "metadata": {},
   "outputs": [
    {
     "name": "stdout",
     "output_type": "stream",
     "text": [
      "[-6.    -5.995 -5.99  ...,  7.985  7.99   7.995]\n"
     ]
    }
   ],
   "source": [
    "x = np.arange(-7,7,0.005)+1\n",
    "print(x)"
   ]
  },
  {
   "cell_type": "code",
   "execution_count": null,
   "metadata": {
    "collapsed": true
   },
   "outputs": [],
   "source": []
  }
 ],
 "metadata": {
  "kernelspec": {
   "display_name": "Python 2",
   "language": "python",
   "name": "python2"
  },
  "language_info": {
   "codemirror_mode": {
    "name": "ipython",
    "version": 2
   },
   "file_extension": ".py",
   "mimetype": "text/x-python",
   "name": "python",
   "nbconvert_exporter": "python",
   "pygments_lexer": "ipython2",
   "version": "2.7.13"
  }
 },
 "nbformat": 4,
 "nbformat_minor": 2
}
